{
 "cells": [
  {
   "cell_type": "code",
   "execution_count": 5,
   "metadata": {},
   "outputs": [],
   "source": [
    "import pandas as pd\n",
    "import sqlite3\n",
    "from conection_sql_lite import*"
   ]
  },
  {
   "cell_type": "code",
   "execution_count": 6,
   "metadata": {},
   "outputs": [],
   "source": [
    "# Ejemplo de DataFrame\n",
    "datos = {'nombre': ['Alice', 'Bob', 'Charlie'],\n",
    "         'edad': [30, 35, 25]}\n",
    "df = pd.DataFrame(datos)"
   ]
  },
  {
   "cell_type": "code",
   "execution_count": 7,
   "metadata": {},
   "outputs": [],
   "source": [
    "\n",
    "# Función principal para el menú de opciones\n",
    "def menu():\n",
    "    conn = conectar_base_de_datos()\n",
    "    \n",
    "    while True:\n",
    "        print(\"\\n##################################################\")\n",
    "        print(\"\\nOpciones:\\n\")\n",
    "        print(\"1. Crear una tabla nueva desde un DataFrame\")\n",
    "        print(\"2. Borrar una tabla\")\n",
    "        print(\"3. Listar tablas en la base de datos\")\n",
    "        print(\"4. Mostrar información de una tabla\")\n",
    "        print(\"5. Salir\\n\")\n",
    "        print(\"##################################################\")\n",
    "        \n",
    "        opcion = input(\"Elige una opción (1-5): \")\n",
    "        \n",
    "        if opcion == '1':\n",
    "            # Cargar un DataFrame existente\n",
    "            print(\"Ingresa el nombre del DataFrame existente:\")\n",
    "            nombre_df = input(\"Nombre del DataFrame: \")\n",
    "            \n",
    "            try:\n",
    "                df = globals()[nombre_df]  # Obtener el DataFrame según el nombre ingresado\n",
    "                nombre_tabla = input(\"Ingresa el nombre de la nueva tabla: \")\n",
    "                crear_tabla_desde_dataframe(conn, df, nombre_tabla)\n",
    "                \n",
    "            except KeyError:\n",
    "                print(f\"No se encontró un DataFrame con el nombre '{nombre_df}'.\")\n",
    "                \n",
    "        elif opcion == '2':\n",
    "            print(\"\\nRESPUESTA:\\n\")\n",
    "            borrar_tabla(conn)\n",
    "            \n",
    "        elif opcion == '3':\n",
    "            print(\"\\nRESPUESTA:\\n\")\n",
    "            listar_tablas(conn)\n",
    "            \n",
    "        elif opcion == '4':\n",
    "            print(\"\\nRESPUESTA:\\n\")\n",
    "            mostrar_informacion_tabla(conn)\n",
    "            \n",
    "        elif opcion == '5':\n",
    "            conn.close()\n",
    "            break\n",
    "        else:\n",
    "            print(\"Opción no válida. Inténtalo de nuevo.\")\n"
   ]
  },
  {
   "cell_type": "code",
   "execution_count": 8,
   "metadata": {},
   "outputs": [
    {
     "name": "stdout",
     "output_type": "stream",
     "text": [
      "\n",
      "##################################################\n",
      "\n",
      "Opciones:\n",
      "\n",
      "1. Crear una tabla nueva desde un DataFrame\n",
      "2. Borrar una tabla\n",
      "3. Listar tablas en la base de datos\n",
      "4. Mostrar información de una tabla\n",
      "5. Salir\n",
      "\n",
      "##################################################\n",
      "\n",
      "RESPUESTA:\n",
      "\n",
      "Tablas en la base de datos:\n",
      "fix_raw\n",
      "\n",
      "##################################################\n",
      "\n",
      "Opciones:\n",
      "\n",
      "1. Crear una tabla nueva desde un DataFrame\n",
      "2. Borrar una tabla\n",
      "3. Listar tablas en la base de datos\n",
      "4. Mostrar información de una tabla\n",
      "5. Salir\n",
      "\n",
      "##################################################\n"
     ]
    }
   ],
   "source": [
    "# Ejecutar el menú1\n",
    "menu()"
   ]
  }
 ],
 "metadata": {
  "kernelspec": {
   "display_name": "prueba_proyecto",
   "language": "python",
   "name": "python3"
  },
  "language_info": {
   "codemirror_mode": {
    "name": "ipython",
    "version": 3
   },
   "file_extension": ".py",
   "mimetype": "text/x-python",
   "name": "python",
   "nbconvert_exporter": "python",
   "pygments_lexer": "ipython3",
   "version": "3.12.0"
  },
  "orig_nbformat": 4
 },
 "nbformat": 4,
 "nbformat_minor": 2
}
