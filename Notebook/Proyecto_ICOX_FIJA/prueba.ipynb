{
 "cells": [
  {
   "cell_type": "code",
   "execution_count": 6,
   "metadata": {},
   "outputs": [],
   "source": [
    "import pandas as pd\n",
    "import sqlite3\n",
    "from conection_sql_lite import*\n",
    "from datetime import datetime, timedelta\n",
    "import random"
   ]
  },
  {
   "cell_type": "code",
   "execution_count": 7,
   "metadata": {},
   "outputs": [
    {
     "name": "stdout",
     "output_type": "stream",
     "text": [
      "2023-06-06 04:31:49\n"
     ]
    }
   ],
   "source": [
    "def generar_fecha_hora():\n",
    "    fecha_inicio = datetime(2023, 1, 1)\n",
    "    fecha_fin = datetime(2023, 12, 31)\n",
    "    \n",
    "    # Genera una fecha aleatoria dentro del rango de 2023\n",
    "    fecha_hora = fecha_inicio + timedelta(days=random.randint(0, (fecha_fin - fecha_inicio).days))\n",
    "    \n",
    "    # Genera una hora aleatoria en formato HH:MM:SS\n",
    "    hora = f\"{random.randint(0, 23):02d}:{random.randint(0, 59):02d}:{random.randint(0, 59):02d}\"\n",
    "    \n",
    "    # Combina la fecha y la hora\n",
    "    return f\"{fecha_hora.strftime('%Y-%m-%d')} {hora}\"\n",
    "\n",
    "# Ejemplo de uso\n",
    "fecha_hora_aleatoria = generar_fecha_hora()\n",
    "print(fecha_hora_aleatoria)"
   ]
  },
  {
   "cell_type": "code",
   "execution_count": null,
   "metadata": {},
   "outputs": [],
   "source": [
    "# Conectar a la base de datos SQLite\n",
    "conn = sqlite3.connect('proyecto_icox.db')\n",
    "cursor = conn.cursor()\n",
    "\n",
    "# Realizar un INNER JOIN para enriquecer tabla1 con la información de tabla2\n",
    "consulta = \"\"\"\n",
    "    SELECT fix_movil.*, prefijos_internacionales_iso.*\n",
    "    FROM fix_movil\n",
    "    LEFT JOIN prefijos_internacionales_iso ON fix_movil.id = prefijos_internacionales_iso.id\n",
    "\"\"\"\n",
    "\n",
    "# Ejecutar la consulta SQL\n",
    "cursor.execute(consulta)\n",
    "\n",
    "# Recuperar los resultados en un DataFrame (puedes usar pandas)\n",
    "import pandas as pd\n",
    "resultado = pd.read_sql_query(consulta, conn)\n",
    "\n",
    "# Cerrar la conexión a la base de datos\n",
    "conn.close()\n",
    "\n",
    "# El resultado contendrá la tabla1 enriquecida con la información de tabla2\n",
    "print(resultado)\n"
   ]
  }
 ],
 "metadata": {
  "kernelspec": {
   "display_name": "prueba_proyecto",
   "language": "python",
   "name": "python3"
  },
  "language_info": {
   "codemirror_mode": {
    "name": "ipython",
    "version": 3
   },
   "file_extension": ".py",
   "mimetype": "text/x-python",
   "name": "python",
   "nbconvert_exporter": "python",
   "pygments_lexer": "ipython3",
   "version": "3.12.0"
  },
  "orig_nbformat": 4
 },
 "nbformat": 4,
 "nbformat_minor": 2
}
