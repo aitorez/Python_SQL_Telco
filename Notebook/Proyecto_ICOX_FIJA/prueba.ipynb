{
 "cells": [
  {
   "cell_type": "code",
   "execution_count": 5,
   "metadata": {},
   "outputs": [],
   "source": [
    "import pandas as pd\n",
    "import sqlite3\n",
    "from conection_sql_lite import*"
   ]
  },
  {
   "cell_type": "code",
   "execution_count": null,
   "metadata": {},
   "outputs": [],
   "source": [
    "# Conectar a la base de datos SQLite\n",
    "conn = sqlite3.connect('proyecto_icox.db')\n",
    "cursor = conn.cursor()\n",
    "\n",
    "# Realizar un INNER JOIN para enriquecer tabla1 con la información de tabla2\n",
    "consulta = \"\"\"\n",
    "    SELECT fix_movil.*, prefijos_internacionales_iso.*\n",
    "    FROM fix_movil\n",
    "    LEFT JOIN prefijos_internacionales_iso ON fix_movil.id = prefijos_internacionales_iso.id\n",
    "\"\"\"\n",
    "\n",
    "# Ejecutar la consulta SQL\n",
    "cursor.execute(consulta)\n",
    "\n",
    "# Recuperar los resultados en un DataFrame (puedes usar pandas)\n",
    "import pandas as pd\n",
    "resultado = pd.read_sql_query(consulta, conn)\n",
    "\n",
    "# Cerrar la conexión a la base de datos\n",
    "conn.close()\n",
    "\n",
    "# El resultado contendrá la tabla1 enriquecida con la información de tabla2\n",
    "print(resultado)\n"
   ]
  }
 ],
 "metadata": {
  "kernelspec": {
   "display_name": "prueba_proyecto",
   "language": "python",
   "name": "python3"
  },
  "language_info": {
   "codemirror_mode": {
    "name": "ipython",
    "version": 3
   },
   "file_extension": ".py",
   "mimetype": "text/x-python",
   "name": "python",
   "nbconvert_exporter": "python",
   "pygments_lexer": "ipython3",
   "version": "3.12.0"
  },
  "orig_nbformat": 4
 },
 "nbformat": 4,
 "nbformat_minor": 2
}
