{
 "cells": [
  {
   "cell_type": "code",
   "execution_count": 6,
   "metadata": {},
   "outputs": [],
   "source": [
    "import pandas as pd\n",
    "import sqlite3\n",
    "from conection_sql_lite import*\n",
    "from datetime import datetime, timedelta\n",
    "import random"
   ]
  },
  {
   "cell_type": "code",
   "execution_count": 7,
   "metadata": {},
   "outputs": [
    {
     "name": "stdout",
     "output_type": "stream",
     "text": [
      "2023-06-06 04:31:49\n"
     ]
    }
   ],
   "source": [
    "def generar_fecha_hora():\n",
    "    fecha_inicio = datetime(2023, 1, 1)\n",
    "    fecha_fin = datetime(2023, 12, 31)\n",
    "    \n",
    "    # Genera una fecha aleatoria dentro del rango de 2023\n",
    "    fecha_hora = fecha_inicio + timedelta(days=random.randint(0, (fecha_fin - fecha_inicio).days))\n",
    "    \n",
    "    # Genera una hora aleatoria en formato HH:MM:SS\n",
    "    hora = f\"{random.randint(0, 23):02d}:{random.randint(0, 59):02d}:{random.randint(0, 59):02d}\"\n",
    "    \n",
    "    # Combina la fecha y la hora\n",
    "    return f\"{fecha_hora.strftime('%Y-%m-%d')} {hora}\"\n",
    "\n",
    "# Ejemplo de uso\n",
    "fecha_hora_aleatoria = generar_fecha_hora()\n",
    "print(fecha_hora_aleatoria)"
   ]
  },
  {
   "cell_type": "code",
   "execution_count": null,
   "metadata": {},
   "outputs": [],
   "source": [
    "# Conectar a la base de datos SQLite\n",
    "conn = sqlite3.connect('proyecto_icox.db')\n",
    "cursor = conn.cursor()\n",
    "\n",
    "# Realizar un INNER JOIN para enriquecer tabla1 con la información de tabla2\n",
    "consulta = \"\"\"\n",
    "    SELECT fix_movil.*, prefijos_internacionales_iso.*\n",
    "    FROM fix_movil\n",
    "    LEFT JOIN prefijos_internacionales_iso ON fix_movil.id = prefijos_internacionales_iso.id\n",
    "\"\"\"\n",
    "\n",
    "# Ejecutar la consulta SQL\n",
    "cursor.execute(consulta)\n",
    "\n",
    "# Recuperar los resultados en un DataFrame (puedes usar pandas)\n",
    "import pandas as pd\n",
    "resultado = pd.read_sql_query(consulta, conn)\n",
    "\n",
    "# Cerrar la conexión a la base de datos\n",
    "conn.close()\n",
    "\n",
    "# El resultado contendrá la tabla1 enriquecida con la información de tabla2\n",
    "print(resultado)\n"
   ]
  },
  {
   "cell_type": "code",
   "execution_count": 2,
   "metadata": {},
   "outputs": [
    {
     "name": "stdout",
     "output_type": "stream",
     "text": [
      "0    (1234567890, 123456)\n",
      "1           (12345, 1234)\n",
      "2             (1234, 123)\n",
      "3         (567890, 56789)\n",
      "4                    None\n",
      "5       (987654321, 9876)\n",
      "Name: Columna1, dtype: object\n"
     ]
    }
   ],
   "source": [
    "import pandas as pd\n",
    "\n",
    "# Define la función para encontrar la máxima coincidencia\n",
    "def encontrar_maxima_coincidencia(lista1, lista2):\n",
    "    diccionario_lista1 = {numero: None for numero in lista1}\n",
    "    diccionario_lista2 = {numero: None for numero in lista2}\n",
    "    coincidencias = {}\n",
    "    \n",
    "    for numero1 in diccionario_lista1:\n",
    "        for i in range(1, len(numero1) + 1):\n",
    "            subnumero1 = numero1[:-i]\n",
    "            if subnumero1 in diccionario_lista2:\n",
    "                coincidencias[(numero1, subnumero1)] = len(subnumero1)\n",
    "                break\n",
    "    \n",
    "    if not coincidencias:\n",
    "        return None  # No se encontraron coincidencias\n",
    "    \n",
    "    maxima_coincidencia = max(coincidencias, key=coincidencias.get)\n",
    "    \n",
    "    return maxima_coincidencia\n",
    "\n",
    "# Crear un DataFrame de ejemplo\n",
    "data = {'Columna1': [\"1234567890\", \"12345\", \"1234\", \"567890\", \"111112222\", \"987654321\"],\n",
    "        'Columna2': [\"123456\", \"123\", \"1234\", \"56789\", \"111112233\", \"9876\"]}\n",
    "df = pd.DataFrame(data)\n",
    "\n",
    "# Aplicar la función a una columna específica del DataFrame\n",
    "resultado = df['Columna1'].apply(lambda x: encontrar_maxima_coincidencia([x], df['Columna2']))\n",
    "print(resultado)\n"
   ]
  },
  {
   "cell_type": "code",
   "execution_count": 19,
   "metadata": {},
   "outputs": [],
   "source": [
    "import random\n",
    "import pandas as pd\n",
    "from datetime import datetime, timedelta\n",
    "from functions import*\n",
    "\n",
    "pais = pd.read_csv(r'/Users/aitorelordizamora/Documents/GitHub/telco/Notebook/Proyecto_ICOX_FIJA/reference paises iso/paises.csv', sep=',')\n",
    "pais = pais[pais[' phone_code'].notnull()]\n",
    "\n",
    "# Genera un número de teléfono MOC con prefijo español y 9 dígitos adicionales\n",
    "def generar_numero_moc_origen():\n",
    "    \n",
    "    prefijo_espanol = \"+34\"  # Prefijo español\n",
    "    nueve_digitos = \"\".join([str(random.randint(0, 9)) for _ in range(9)])\n",
    "    return f\"{prefijo_espanol}{nueve_digitos}\"\n",
    "\n",
    "def generar_numero_moc_destino():\n",
    "    prefijo_espanol = \"+34\"  # Prefijo español\n",
    "    \n",
    "    probabilidad_numeros_especiales = 0.25  # 25% de probabilidad de número especial\n",
    "    if random.random() < probabilidad_numeros_especiales:\n",
    "        numeros_especiales = [\"1002\",\"1003\",\"1004\",\"100\", \"123\", \"911\", \"0800\", \"555\", \"666\", \"777\", \"888\", \"999\", \"112\", \"113\", \"114\", \"115\", \"116\", \"117\", \"118\", \"119\", \"900\", \"901\", \"902\", \"903\", \"904\", \"905\", \"906\", \"907\", \"908\", \"909\"]\n",
    "        return random.choice(numeros_especiales)\n",
    "    else:\n",
    "        nueve_digitos = \"\".join([str(random.randint(0, 9)) for _ in range(9)])\n",
    "        return f\"{prefijo_espanol}{nueve_digitos}\"\n",
    "    \n",
    "# Genera un número de teléfono aleatorio para MTC\n",
    "def generar_numero_mtc():\n",
    "    prefijo_espanol = \"+34\"\n",
    "    probabilidad_numeros_especiales = 0.25  # 25% de probabilidad de número especial\n",
    "    if random.random() < probabilidad_numeros_especiales:\n",
    "        numeros_especiales = [\"1002\",\"1003\",\"1004\",\"100\", \"123\", \"911\", \"0800\", \"555\", \"666\", \"777\", \"888\", \"999\", \"112\", \"113\", \"114\", \"115\", \"116\", \"117\", \"118\", \"119\", \"900\", \"901\", \"902\", \"903\", \"904\", \"905\", \"906\", \"907\", \"908\", \"909\"]\n",
    "        return random.choice(numeros_especiales)\n",
    "    \n",
    "    else:\n",
    "        nueve_digitos = \"\".join([str(random.randint(0, 9)) for _ in range(9)])\n",
    "        return f\"{prefijo_espanol}{nueve_digitos}\"\n",
    "    \n",
    "    \n",
    "    \n",
    "\n",
    "# Genera una duración de llamada aleatoria en segundos\n",
    "def generar_duracion_llamada():\n",
    "    return random.randint(1, 3600)  # Duración entre 1 segundo y 1 hora\n",
    "\n",
    "# Genera una fecha y hora aleatoria en los últimos 30 días\n",
    "def generar_fecha_hora():\n",
    "    fecha_inicio = datetime(2023, 1, 1)\n",
    "    fecha_fin = datetime(2023, 12, 31)\n",
    "    # Genera una fecha aleatoria dentro del rango de 2023\n",
    "    fecha_hora = fecha_inicio + timedelta(days=random.randint(0, (fecha_fin - fecha_inicio).days))\n",
    "    # Genera una hora aleatoria en formato HH:MM:SS\n",
    "    hora = f\"{random.randint(0, 23):02d}:{random.randint(0, 59):02d}:{random.randint(0, 59):02d}\"\n",
    "    \n",
    "    # Combina la fecha y la hora\n",
    "    return f\"{fecha_hora.strftime('%Y-%m-%d')} {hora}\"\n",
    "\n",
    "# Crea un registro de CDR realista\n",
    "def crear_registro_cdr():\n",
    "    if random.random() < 0.6:\n",
    "        origen = generar_numero_moc_origen()\n",
    "        destino = generar_numero_mtc()\n",
    "        tipo = \"MOC\"  # Llamada emitida\n",
    "    else:\n",
    "        origen = generar_numero_mtc()\n",
    "        destino = generar_numero_moc_origen()\n",
    "        tipo = \"MTC\"  # Llamada recibida\n",
    "    \n",
    "    duracion = generar_duracion_llamada()\n",
    "    fecha_hora = generar_fecha_hora()\n",
    "    \n",
    "    return {\"Origen\": origen, \"Destino\": destino, \"Duracion\": duracion, \"Fecha_Hora\": fecha_hora, \"Tipo\": tipo}\n",
    "\n",
    "# Genera un DataFrame con registros simulados de CDR\n",
    "def generar_dataframe_cdrs(cantidad):\n",
    "    cdrs = []\n",
    "    \n",
    "    for _ in range(cantidad):\n",
    "        cdr = crear_registro_cdr()\n",
    "        \n",
    "        # Ajusta el número de llamadas durante el fin de semana (25% menos)\n",
    "        dia_semana = datetime.strptime(cdr[\"Fecha_Hora\"], \"%Y-%m-%d %H:%M:%S\").weekday()\n",
    "        if dia_semana >= 5:  # Día de la semana 5 es sábado, 6 es domingo\n",
    "            if random.random() < 0.25:  # 25% de probabilidad de omitir la llamada\n",
    "                continue\n",
    "        \n",
    "        cdrs.append(cdr)\n",
    "    \n",
    "    return pd.DataFrame(cdrs)\n",
    "\n",
    "# Ejemplo de generación de un DataFrame de CDRs\n",
    "cantidad_registros = 100000\n",
    "df_cdrs = generar_dataframe_cdrs(cantidad_registros)\n",
    "df_cdrs['Minutos'] = (df_cdrs['Duracion']/60).round(2)\n",
    "\n",
    "# Limpiar el signo \"+\" de las columnas \"Telefono1\" y \"Telefono2\"\n",
    "df_cdrs[\"Origen_corregido\"] = df_cdrs[\"Origen\"].str.replace(\"+\", \"\")\n",
    "df_cdrs[\"Destino_corregido\"] = df_cdrs[\"Destino\"].str.replace(\"+\", \"\")\n",
    "df_cdrs['Max_coincidencia'] = df_cdrs['Destino_corregido'].apply(lambda x: encontrar_maxima_coincidencia(x, pais[' phone_code']))\n",
    "df_cdrs = df_cdrs.merge(pais, how='left', left_on='Max_coincidencia', right_on = ' phone_code')"
   ]
  },
  {
   "cell_type": "code",
   "execution_count": 23,
   "metadata": {},
   "outputs": [
    {
     "data": {
      "text/html": [
       "<div>\n",
       "<style scoped>\n",
       "    .dataframe tbody tr th:only-of-type {\n",
       "        vertical-align: middle;\n",
       "    }\n",
       "\n",
       "    .dataframe tbody tr th {\n",
       "        vertical-align: top;\n",
       "    }\n",
       "\n",
       "    .dataframe thead th {\n",
       "        text-align: right;\n",
       "    }\n",
       "</style>\n",
       "<table border=\"1\" class=\"dataframe\">\n",
       "  <thead>\n",
       "    <tr style=\"text-align: right;\">\n",
       "      <th></th>\n",
       "      <th>nombre</th>\n",
       "      <th>name</th>\n",
       "      <th>nom</th>\n",
       "      <th>iso2</th>\n",
       "      <th>iso3</th>\n",
       "      <th>phone_code</th>\n",
       "    </tr>\n",
       "  </thead>\n",
       "  <tbody>\n",
       "    <tr>\n",
       "      <th>63</th>\n",
       "      <td>España</td>\n",
       "      <td>Spain</td>\n",
       "      <td>Espagne</td>\n",
       "      <td>ES</td>\n",
       "      <td>ESP</td>\n",
       "      <td>34</td>\n",
       "    </tr>\n",
       "  </tbody>\n",
       "</table>\n",
       "</div>"
      ],
      "text/plain": [
       "    nombre   name      nom  iso2  iso3  phone_code\n",
       "63  España  Spain  Espagne    ES   ESP          34"
      ]
     },
     "execution_count": 23,
     "metadata": {},
     "output_type": "execute_result"
    }
   ],
   "source": [
    "pais[pais['nombre'] == 'España']"
   ]
  },
  {
   "cell_type": "code",
   "execution_count": 24,
   "metadata": {},
   "outputs": [
    {
     "data": {
      "text/plain": [
       "Index(['nombre', ' name', ' nom', ' iso2', ' iso3', ' phone_code'], dtype='object')"
      ]
     },
     "execution_count": 24,
     "metadata": {},
     "output_type": "execute_result"
    }
   ],
   "source": [
    "pais.columns"
   ]
  }
 ],
 "metadata": {
  "kernelspec": {
   "display_name": "prueba_proyecto",
   "language": "python",
   "name": "python3"
  },
  "language_info": {
   "codemirror_mode": {
    "name": "ipython",
    "version": 3
   },
   "file_extension": ".py",
   "mimetype": "text/x-python",
   "name": "python",
   "nbconvert_exporter": "python",
   "pygments_lexer": "ipython3",
   "version": "3.12.0"
  },
  "orig_nbformat": 4
 },
 "nbformat": 4,
 "nbformat_minor": 2
}
